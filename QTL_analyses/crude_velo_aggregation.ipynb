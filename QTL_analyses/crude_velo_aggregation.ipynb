{
 "cells": [
  {
   "cell_type": "code",
   "execution_count": 1,
   "metadata": {},
   "outputs": [],
   "source": [
    "import scvelo as scv\n",
    "import loompy\n",
    "import igraph as ig\n",
    "import anndata as ad\n",
    "import pandas as pd\n",
    "import re\n",
    "import scanpy as sc \n",
    "import matplotlib.pyplot as plt \n",
    "import numpy as np \n",
    "import scipy as sp\n",
    "import seaborn as sb\n",
    "import harmonypy\n",
    "from numpy import inf\n",
    "\n",
    "adata = sc.read_h5ad(filename = \"/omics/groups/OE0540/internal/users/ruehle/rnavelocity/velocyto/scvelo_output/use/2000DEpercelltype_velocities_neighbors_pca.h5ad\")\n",
    "\n",
    "#celltype to aggregate\n",
    "celltype = \"defendoderm\"\n",
    "\n",
    "#define aggregation function \n",
    "def grouped_obs_mean(adata, group_key, layer=None, gene_symbols=None):\n",
    "    if layer is not None:\n",
    "        getX = lambda x: x.layers[layer]\n",
    "    else:\n",
    "        getX = lambda x: x.X\n",
    "    if gene_symbols is not None:\n",
    "        new_idx = adata.var[idx]\n",
    "    else:\n",
    "        new_idx = adata.var_names\n",
    "\n",
    "    grouped = adata.obs.groupby(group_key)\n",
    "    out = pd.DataFrame(\n",
    "        np.zeros((adata.shape[1], len(grouped)), dtype=np.float64),\n",
    "        columns=list(grouped.groups.keys()),\n",
    "        #index=adata.var_names\n",
    "        index = adata.var[\"Accession\"]\n",
    "    )\n",
    "\n",
    "    for group, idx in grouped.indices.items():\n",
    "        X = getX(adata[idx])\n",
    "        out[group] = np.ravel(X.mean(axis=0, dtype=np.float64))\n",
    "    return out"
   ]
  },
  {
   "cell_type": "code",
   "execution_count": 40,
   "metadata": {},
   "outputs": [
    {
     "name": "stdout",
     "output_type": "stream",
     "text": [
      "View of AnnData object with n_obs × n_vars = 8644 × 7459\n",
      "    obs: 'Unnamed: 0', 'run', 'batch', 'cell', 'timepoint', 'donor', 'exp_batch', 'annas_pseudotime', 'n_genes_by_counts', 'total_counts', 'total_counts_mt', 'pct_counts_mt', 'initial_size_spliced', 'initial_size_unspliced', 'initial_size', 'n_counts_highlyvariable', 'log_counts_highlyvariable', 'n_genes_highlyvariable', 'louvain_1.0', 'louvain_0.6', 'louvain_0.4', 'louvain_1.4', 'n_counts', 'velocity_self_transition', 'root_cells', 'end_points', 'velocity_pseudotime', 'latent_time', 'pc_pseudotime', 'pc_x', 'pc_y', 'pc_data_x', 'pc_data_y', 'poor_differentiator', 'celltype'\n",
      "    var: 'Accession', 'Chromosome', 'End', 'Start', 'Strand', 'fit_alpha', 'fit_beta', 'fit_gamma', 'fit_t_', 'fit_scaling', 'fit_std_u', 'fit_std_s', 'fit_likelihood', 'fit_u0', 'fit_s0', 'fit_pval_steady', 'fit_steady_u', 'fit_steady_s', 'fit_variance', 'fit_alignment_scaling', 'fit_r2', 'velocity_genes'\n",
      "    uns: 'neighbors', 'pca', 'rank_genes_groups', 'recover_dynamics', 'umap', 'velocity_params'\n",
      "    obsm: 'X_pca', 'X_umap'\n",
      "    varm: 'PCs', 'loss'\n",
      "    layers: 'Ms', 'Mu', 'ambiguous', 'fit_t', 'fit_tau', 'fit_tau_', 'matrix', 'spanning', 'spliced', 'unspliced', 'velocity', 'velocity_u'\n",
      "    obsp: 'connectivities', 'distances'\n",
      "['aowh_2-22607', 'aowh_2-24252', 'aowh_2-24327', 'aoxv_3-25216', 'aoxv_3-25271', 'aoxv_3-25475', 'babz_3-21965', 'bezi_1-24722', 'bima_1-25475', 'bima_1-25476']\n"
     ]
    },
    {
     "data": {
      "text/plain": [
       "(7459, 264)"
      ]
     },
     "execution_count": 40,
     "metadata": {},
     "output_type": "execute_result"
    }
   ],
   "source": [
    "#write phenotype file \n",
    "blub = pd.DataFrame()\n",
    "cells = pd.DataFrame()\n",
    "sample_ids = []\n",
    "\n",
    "cells = adata[adata.obs['celltype'] == celltype, :]\n",
    "#blub = grouped_obs_mean(cells, [\"donor\", \"run\"], layer = \"matrix\")\n",
    "blub = grouped_obs_mean(cells, ['donor', 'run'], layer = 'spliced')\n",
    "blub = blub.T\n",
    "\n",
    "#fix row/colnames of aggregates \n",
    "for name in blub.index:\n",
    "   item = name[0] + \"-\" + name[1]\n",
    "   sample_ids.append(item)\n",
    "\n",
    "neue_sample_ids = []\n",
    "for name in sample_ids:\n",
    "    ohne_run = name.replace(\"run\",\"\")\n",
    "    neue_sample_ids.append(ohne_run)\n",
    "\n",
    "#print(neue_sample_ids[0:10])\n",
    "\n",
    "blub.insert(0, 'feature_id', neue_sample_ids)\n",
    "spliced = blub.T\n",
    "out_path = \"/omics/groups/OE0540/internal/users/ruehle/rnavelocity/vqtls/data/velocyto/logodds_velocity/celltypes/\" + celltype + \"/input/\"\n",
    "\n",
    "spliced = spliced.drop('feature_id')\n",
    "spliced = spliced.to_numpy(dtype = float)\n",
    "#spliced = blub.dropna()\n",
    "spliced.shape\n",
    "\n",
    "blub.to_csv(out_path + \"pheno_file_logodds_velocity_\" + celltype + '_DE_genes.txt', header=False, index=True, sep='\\t', mode='a')"
   ]
  },
  {
   "cell_type": "code",
   "execution_count": 41,
   "metadata": {},
   "outputs": [
    {
     "name": "stdout",
     "output_type": "stream",
     "text": [
      "View of AnnData object with n_obs × n_vars = 8644 × 7459\n",
      "    obs: 'Unnamed: 0', 'run', 'batch', 'cell', 'timepoint', 'donor', 'exp_batch', 'annas_pseudotime', 'n_genes_by_counts', 'total_counts', 'total_counts_mt', 'pct_counts_mt', 'initial_size_spliced', 'initial_size_unspliced', 'initial_size', 'n_counts_highlyvariable', 'log_counts_highlyvariable', 'n_genes_highlyvariable', 'louvain_1.0', 'louvain_0.6', 'louvain_0.4', 'louvain_1.4', 'n_counts', 'velocity_self_transition', 'root_cells', 'end_points', 'velocity_pseudotime', 'latent_time', 'pc_pseudotime', 'pc_x', 'pc_y', 'pc_data_x', 'pc_data_y', 'poor_differentiator', 'celltype'\n",
      "    var: 'Accession', 'Chromosome', 'End', 'Start', 'Strand', 'fit_alpha', 'fit_beta', 'fit_gamma', 'fit_t_', 'fit_scaling', 'fit_std_u', 'fit_std_s', 'fit_likelihood', 'fit_u0', 'fit_s0', 'fit_pval_steady', 'fit_steady_u', 'fit_steady_s', 'fit_variance', 'fit_alignment_scaling', 'fit_r2', 'velocity_genes'\n",
      "    uns: 'neighbors', 'pca', 'rank_genes_groups', 'recover_dynamics', 'umap', 'velocity_params'\n",
      "    obsm: 'X_pca', 'X_umap'\n",
      "    varm: 'PCs', 'loss'\n",
      "    layers: 'Ms', 'Mu', 'ambiguous', 'fit_t', 'fit_tau', 'fit_tau_', 'matrix', 'spanning', 'spliced', 'unspliced', 'velocity', 'velocity_u'\n",
      "    obsp: 'connectivities', 'distances'\n",
      "['aowh_2-22607', 'aowh_2-24252', 'aowh_2-24327', 'aoxv_3-25216', 'aoxv_3-25271', 'aoxv_3-25475', 'babz_3-21965', 'bezi_1-24722', 'bima_1-25475', 'bima_1-25476']\n"
     ]
    },
    {
     "data": {
      "text/plain": [
       "(7459, 264)"
      ]
     },
     "execution_count": 41,
     "metadata": {},
     "output_type": "execute_result"
    }
   ],
   "source": [
    "#write phenotype file \n",
    "blub = pd.DataFrame()\n",
    "cells = pd.DataFrame()\n",
    "sample_ids = []\n",
    "\n",
    "cells = adata[adata.obs['celltype'] == celltype, :]\n",
    "\n",
    "#blub = grouped_obs_mean(cells, [\"donor\", \"run\"], layer = \"matrix\")\n",
    "#blub = grouped_obs_mean(cells, [\"donor\", \"exp_batch\"])\n",
    "blub = grouped_obs_mean(cells, ['donor', 'run'], layer = 'unspliced')\n",
    "gene_ids = blub.index\n",
    "blub = blub.T\n",
    "\n",
    "\n",
    "for name in blub.index:\n",
    "   item = name[0] + \"-\" + name[1]\n",
    "   sample_ids.append(item)\n",
    "\n",
    "neue_sample_ids = []\n",
    "for name in sample_ids:\n",
    "    ohne_run = name.replace(\"run\",\"\")\n",
    "    neue_sample_ids.append(ohne_run)\n",
    "\n",
    "print(neue_sample_ids[0:10])\n",
    "\n",
    "blub.insert(0, 'feature_id', neue_sample_ids)\n",
    "unspliced = blub.T\n",
    "out_path = \"/omics/groups/OE0540/internal/users/ruehle/rnavelocity/vqtls/data/velocyto/logodds_velocity/celltypes/\" + celltype + \"/input/\"\n",
    "unspliced = unspliced.drop('feature_id')\n",
    "unspliced = unspliced.to_numpy(dtype = float)\n",
    "\n",
    "#unspliced = blub.dropna()\n",
    "unspliced.shape\n",
    "#blub[blub == -inf] = 0\n",
    "#blub[blub == inf] = 0"
   ]
  },
  {
   "cell_type": "code",
   "execution_count": 42,
   "metadata": {},
   "outputs": [],
   "source": [
    "#merge selected cells \n",
    "\n",
    "crude_velo = unspliced/(spliced + unspliced)\n",
    "logit_velocity = np.log(crude_velo/(1-crude_velo))\n",
    "\n",
    "logit_velocity[logit_velocity == -inf] = \"NaN\"\n",
    "logit_velocity[logit_velocity == inf] = \"NaN\"\n",
    "\n",
    "#write phenotype file \n",
    "logit_velocity_panda = pd.DataFrame()\n",
    "logit_velocity_panda = pd.DataFrame(data=logit_velocity)\n",
    "\n",
    "logit_velocity_panda.head()\n",
    "\n",
    "\n",
    "neue_sample_ids = pd.Series(neue_sample_ids)\n",
    "logit_velocity_panda.loc[-1] = neue_sample_ids\n",
    "# adding a row\n",
    "logit_velocity_panda.index = logit_velocity_panda.index + 1 # shifting index\n",
    "logit_velocity_panda\n",
    "\n",
    "logit_velocity_panda = logit_velocity_panda.sort_index()\n",
    "logit_velocity_panda.index = gene_ids.insert(0,\"feature_id\")\n",
    "\n",
    "logit_velocity_panda\n",
    "\n",
    "out_path = \"/omics/groups/OE0540/internal/users/ruehle/rnavelocity/vqtls/data/velocyto/logodds_velocity/celltypes/\" + celltype + \"/input/\"\n",
    "logit_velocity_panda.to_csv(out_path + \"pheno_file_logodds_velocity_\" + celltype + '_DE_genes.txt', header=False, index=True, sep='\\t', mode='a')\n",
    "\n"
   ]
  },
  {
   "cell_type": "code",
   "execution_count": 43,
   "metadata": {},
   "outputs": [],
   "source": [
    "#sample mapping file\n",
    "#maps genotype names to sample names \n",
    "\n",
    "donormeta = pd.read_csv('/icgc/dkfzlsdf/analysis/B260/projects/HipSci/openAccess/endoderm_differentation/metadata/HipSci_donor_annotation.tsv', sep = ';', header = 0)\n",
    "\n",
    "subdf = pd.DataFrame()\n",
    "final = pd.DataFrame()\n",
    "subdf['sample_id'] = logit_velocity_panda.loc[\"feature_id\"]\n",
    "\n",
    "subdf['sample_map'] = \"zero\"\n",
    "subdf['donor'] = \"donor\"\n",
    "\n",
    "#remove run donor thing and put it into column donor of subdf \n",
    "for index, row in subdf.iterrows():\n",
    "    donor_o = str(row['sample_id'])\n",
    "    donor_only = donor_o[:-6]\n",
    "    row['donor'] = donor_only\n",
    "\n",
    "for sample_index, sample_row in subdf.iterrows():\n",
    "    sample = sample_row['sample_id']\n",
    "    for genomic_index, genomic_row in donormeta.iterrows():\n",
    "        if genomic_row['DonorLine'] in sample:\n",
    "            sample_row['sample_map'] = genomic_row[\"Sample2\"]\n",
    "        else:\n",
    "            None\n",
    "\n",
    "final = subdf[['sample_map', 'sample_id']]\n",
    "final.shape\n",
    "\n",
    "final.to_csv(out_path + \"sample_mapping_file_\" + celltype + '.txt', header=False, index=False, sep='\\t', mode='a')"
   ]
  },
  {
   "cell_type": "code",
   "execution_count": null,
   "metadata": {},
   "outputs": [],
   "source": []
  },
  {
   "cell_type": "code",
   "execution_count": null,
   "metadata": {},
   "outputs": [],
   "source": []
  }
 ],
 "metadata": {
  "kernelspec": {
   "display_name": "SCVELO",
   "language": "python",
   "name": "scvelo"
  },
  "language_info": {
   "codemirror_mode": {
    "name": "ipython",
    "version": 3
   },
   "file_extension": ".py",
   "mimetype": "text/x-python",
   "name": "python",
   "nbconvert_exporter": "python",
   "pygments_lexer": "ipython3",
   "version": "3.7.0"
  }
 },
 "nbformat": 4,
 "nbformat_minor": 4
}
