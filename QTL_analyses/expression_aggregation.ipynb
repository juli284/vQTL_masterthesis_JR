{
 "cells": [
  {
   "cell_type": "code",
   "execution_count": null,
   "metadata": {},
   "outputs": [],
   "source": [
    "import scvelo as scv\n",
    "import loompy\n",
    "import igraph as ig\n",
    "import anndata as ad\n",
    "import pandas as pd\n",
    "import re\n",
    "import scanpy as sc \n",
    "import matplotlib.pyplot as plt \n",
    "import numpy as np \n",
    "import scipy as sp\n",
    "import seaborn as sb\n",
    "import harmonypy\n",
    "\n",
    "adata = sc.read_h5ad(filename = \"/omics/groups/OE0540/internal/users/ruehle/rnavelocity/velocyto/scvelo_output/use/deterministic/deterministic_all_velos_neighbors_pca.h5ad\")"
   ]
  },
  {
   "cell_type": "code",
   "execution_count": null,
   "metadata": {},
   "outputs": [],
   "source": [
    "def grouped_obs_mean(adata, group_key, layer=None, gene_symbols=None):\n",
    "    if layer is not None:\n",
    "        getX = lambda x: x.layers[layer]\n",
    "    else:\n",
    "        getX = lambda x: x.X\n",
    "    if gene_symbols is not None:\n",
    "        new_idx = adata.var[idx]\n",
    "    else:\n",
    "        new_idx = adata.var_names\n",
    "\n",
    "    grouped = adata.obs.groupby(group_key)\n",
    "    out = pd.DataFrame(\n",
    "        np.zeros((adata.shape[1], len(grouped)), dtype=np.float64),\n",
    "        columns=list(grouped.groups.keys()),\n",
    "        index=adata.var_names\n",
    "    )\n",
    "\n",
    "    for group, idx in grouped.indices.items():\n",
    "        X = getX(adata[idx])\n",
    "        out[group] = np.ravel(X.mean(axis=0, dtype=np.float64))\n",
    "    return out"
   ]
  },
  {
   "cell_type": "code",
   "execution_count": 1,
   "metadata": {},
   "outputs": [],
   "source": [
    "# define stage of interest, choose between iPSC, mesendoderm, predefendoderm, defendoderm\n",
    "\n",
    "celltype = \"iPSC\"\n",
    "\n",
    "DE_df = sc.get.rank_genes_groups_df(adata, group = celltype)\n",
    "DE_names = DE_df['names'].tolist()\n",
    "\n",
    "geneswodoubles = list(dict.fromkeys(DE_names))\n",
    "adata = adata[:, geneswodoubles]\n",
    "adata"
   ]
  },
  {
   "cell_type": "code",
   "execution_count": null,
   "metadata": {},
   "outputs": [],
   "source": [
    "#write phenotype file \n",
    "blub = pd.DataFrame()\n",
    "cells = pd.DataFrame()\n",
    "sample_ids = []\n",
    "\n",
    "cells = adata[adata.obs['celltype'] == celltype, :]\n",
    "blub = grouped_obs_mean(cells, ['donor', 'exp_batch'])\n",
    "blub = blub.T\n",
    "\n",
    "for name in blub.index:\n",
    "   item = name[0] + \"-\" + name[1]\n",
    "   sample_ids.append(item)\n",
    "\n",
    "#print(sample_ids)\n",
    "blub.insert(0, 'feature_id', sample_ids)\n",
    "blub = blub.T\n",
    "out_path = \"/omics/groups/OE0540/internal/users/ruehle/rnavelocity/vqtls/data/velocyto/expression/celltypes/\" + celltype + \"/input/\"\n",
    "blub.to_csv(out_path + \"pheno_file_expression_\" + celltype + '_2000DE.txt', header=False, index=True, sep='\\t', mode='a')"
   ]
  },
  {
   "cell_type": "code",
   "execution_count": null,
   "metadata": {},
   "outputs": [],
   "source": [
    "#link file alias sample mapping file\n",
    "#maps genotype names to sample names \n",
    "\n",
    "donormeta = pd.read_csv('/icgc/dkfzlsdf/analysis/B260/projects/HipSci/openAccess/endoderm_differentation/metadata/HipSci_donor_annotation.tsv', sep = ';', header = 0)\n",
    "donormeta.head(10)\n",
    "\n",
    "subdf = pd.DataFrame()\n",
    "subdf = donormeta[['Sample2', 'DonorLine']]\n",
    "subdf['sample_map'] = \"zero\"\n",
    "subdf = subdf.set_index('Sample2')\n",
    "\n",
    "for index, row in subdf.iterrows():\n",
    "    donor = row['DonorLine']\n",
    "    for sample_id in sample_ids:\n",
    "        if donor in sample_id:\n",
    "            #print(True)\n",
    "            subdf.loc[index, 'sample_map'] = sample_id\n",
    "subdf[\"DonorLine\"] = subdf.index\n",
    "\n",
    "#subdf.to_csv(out_path + \"sample_mapping_file_\" + celltype + '.txt', header=False, index=False, sep='\\t', mode='a')\n"
   ]
  },
  {
   "cell_type": "code",
   "execution_count": null,
   "metadata": {},
   "outputs": [],
   "source": [
    "#make feature annotation file \n",
    "feature_anno_file = adata.var\n",
    "feature_anno_file.head(10)"
   ]
  },
  {
   "cell_type": "code",
   "execution_count": null,
   "metadata": {},
   "outputs": [],
   "source": [
    "feature_anno_file.index = range(len(feature_anno_file))\n",
    "feature_anno_file.loc[-1] = [\"feature_id\", \"chromosome\", \"end\", \"start\", \"strand\"]  # adding a row\n",
    "feature_anno_file.index = feature_anno_file.index + 1  # shifting index\n",
    "feature_anno_file = feature_anno_file.sort_index() \n",
    "feature_anno_file = feature_anno_file[['Accession', \"Chromosome\", \"Start\", \"End\"]]\n",
    "feature_anno_file.to_csv('/omics/groups/OE0540/internal/users/ruehle/rnavelocity/vqtls/data/velocyto/expression/feature_anno_Ensembl75.txt', header=False, index=False, sep='\\t', "
   ]
  },
  {
   "cell_type": "code",
   "execution_count": null,
   "metadata": {},
   "outputs": [],
   "source": []
  },
  {
   "cell_type": "code",
   "execution_count": null,
   "metadata": {},
   "outputs": [],
   "source": []
  },
  {
   "cell_type": "code",
   "execution_count": null,
   "metadata": {},
   "outputs": [],
   "source": []
  },
  {
   "cell_type": "code",
   "execution_count": null,
   "metadata": {},
   "outputs": [],
   "source": []
  }
 ],
 "metadata": {
  "kernelspec": {
   "display_name": "SCVELO",
   "language": "python",
   "name": "scvelo"
  },
  "language_info": {
   "codemirror_mode": {
    "name": "ipython",
    "version": 3
   },
   "file_extension": ".py",
   "mimetype": "text/x-python",
   "name": "python",
   "nbconvert_exporter": "python",
   "pygments_lexer": "ipython3",
   "version": "3.7.0"
  }
 },
 "nbformat": 4,
 "nbformat_minor": 4
}
